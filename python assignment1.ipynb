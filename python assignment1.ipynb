{
 "cells": [
  {
   "cell_type": "raw",
   "id": "dcaf1b46",
   "metadata": {},
   "source": [
    "1. In the below elements which of them are values or an expression? eg:- values can be integer or string and expressions will be mathematical operators.\n",
    "\n",
    "\n",
    "*        : Expression(mathematical operator).\n",
    "'hello'  : Value(String).\n",
    "-87.8    : Value(Float).\n",
    "-        : Expression(mathematical operator).\n",
    "/        : Expression(mathematical operator).\n",
    "+\t     : Expression(mathematical operator).\n",
    "6        : Value(Integer).\n"
   ]
  },
  {
   "cell_type": "raw",
   "id": "d5dfe233",
   "metadata": {},
   "source": [
    "2. What is the difference between string and variable?\n",
    "\n",
    "-Whereas string is one of the datatype which is collection of characters (for eg: 'DataScience')\n",
    "-Variable is a container which can store the value(data) and there data can be of int, float, str data-type.\n"
   ]
  },
  {
   "cell_type": "raw",
   "id": "71f52e65",
   "metadata": {},
   "source": [
    "3. Describe three different data types.\n",
    "\n",
    "Int : Int datatype is used to repersent the integer values (eg. a = 143, b = -420)\n",
    "\n",
    "float : Float datatype is used to repersent the real numbers(floating point) (eg. c = 12.4, d = -2.69)\n",
    "\n",
    "string: String is used to repersent the sequence of characters. Also the characters can be numbers, special character, and alphabates. (eg. s1 = \"Hello World\", s2 = \"145!\")"
   ]
  },
  {
   "cell_type": "raw",
   "id": "a8508bb8",
   "metadata": {},
   "source": [
    "4. What is an expression made up of? What do all expressions do?\n",
    "\n",
    "Expression : Expression is the combinaton of mathematical operators, variables(or Constants). Expression is used to produce some result or value."
   ]
  },
  {
   "cell_type": "raw",
   "id": "5d24e735",
   "metadata": {},
   "source": [
    "5. This assignment statements, like spam = 10. What is the difference between an expression and a statement?\n",
    "\n",
    "Assignment statement :where some value or expression is assigned to a variable.\n",
    "\n",
    "Differences : The difference is that expression itself is assigned to a variable or constant.\n",
    "\n",
    "For Eg: spam = 10 * a\n",
    "In the example \" spam = 10 * a \" is a assignment statement whereas the \" 10 * a \" is an expression."
   ]
  },
  {
   "cell_type": "code",
   "execution_count": null,
   "id": "9ea1ea5d",
   "metadata": {},
   "outputs": [],
   "source": [
    "6. After running the following code, what does the variable bacon contain?\n",
    "\n",
    "bacon = 22\n",
    "bacon + 1\n",
    "\n",
    "bacon contains 22"
   ]
  },
  {
   "cell_type": "code",
   "execution_count": 4,
   "id": "0addec80",
   "metadata": {},
   "outputs": [],
   "source": [
    "bacon =22"
   ]
  },
  {
   "cell_type": "code",
   "execution_count": 5,
   "id": "4d5fa974",
   "metadata": {},
   "outputs": [
    {
     "data": {
      "text/plain": [
       "23"
      ]
     },
     "execution_count": 5,
     "metadata": {},
     "output_type": "execute_result"
    }
   ],
   "source": [
    "bacon + 1"
   ]
  },
  {
   "cell_type": "code",
   "execution_count": 6,
   "id": "0640bb3c",
   "metadata": {},
   "outputs": [
    {
     "name": "stdout",
     "output_type": "stream",
     "text": [
      "22\n"
     ]
    }
   ],
   "source": [
    "print(bacon)"
   ]
  },
  {
   "cell_type": "raw",
   "id": "cd805ee5",
   "metadata": {},
   "source": [
    "7. What should the values of the following two terms be?\n",
    "'spam' + 'spamspam'\n",
    "'spam' * 3\n",
    "\n",
    "Ans:\n",
    "'spam' + 'spamspam' = 'spamspamspam'\n",
    "'spam' * 3 = 'spamspamspam'"
   ]
  },
  {
   "cell_type": "code",
   "execution_count": 7,
   "id": "bd605e7f",
   "metadata": {},
   "outputs": [
    {
     "data": {
      "text/plain": [
       "'spamspamspam'"
      ]
     },
     "execution_count": 7,
     "metadata": {},
     "output_type": "execute_result"
    }
   ],
   "source": [
    "'spam'+'spamspam'"
   ]
  },
  {
   "cell_type": "code",
   "execution_count": 8,
   "id": "083e5bd5",
   "metadata": {},
   "outputs": [
    {
     "data": {
      "text/plain": [
       "'spamspamspam'"
      ]
     },
     "execution_count": 8,
     "metadata": {},
     "output_type": "execute_result"
    }
   ],
   "source": [
    "'spam'*3"
   ]
  },
  {
   "cell_type": "raw",
   "id": "203e303b",
   "metadata": {},
   "source": [
    "8. Why is eggs a valid variable name while 100 is invalid?\n",
    "\n",
    "Variable declartion in python is that the variable name must start with a alphabate or underscore '_'\n",
    "eg : a = 20, str = \"eggs\", _val = -12.34"
   ]
  },
  {
   "cell_type": "raw",
   "id": "16c86a65",
   "metadata": {},
   "source": [
    "9. What three functions can be used to get the integer, floating-point number, or string version of a value?\n",
    "\n",
    "Ans: Typecasting can be used to get the value\n",
    "for int : int()\n",
    "for float : float()\n",
    "for string : str()"
   ]
  },
  {
   "cell_type": "raw",
   "id": "e3db833e",
   "metadata": {},
   "source": [
    "10. Why does this expression cause an error? How can you fix it?\n",
    "'I have eaten ' + 99 + ' burritos.'\n",
    "\n",
    "Ans: The concat operation between string and int is not possbile. So it will throw an error\n",
    "Fix: To fix this error we can typecast the int value using str(99)"
   ]
  },
  {
   "cell_type": "code",
   "execution_count": 9,
   "id": "6f38a78c",
   "metadata": {},
   "outputs": [
    {
     "ename": "TypeError",
     "evalue": "can only concatenate str (not \"int\") to str",
     "output_type": "error",
     "traceback": [
      "\u001b[1;31m---------------------------------------------------------------------------\u001b[0m",
      "\u001b[1;31mTypeError\u001b[0m                                 Traceback (most recent call last)",
      "\u001b[1;32mC:\\Users\\PALLIV~1\\AppData\\Local\\Temp/ipykernel_5816/2994515584.py\u001b[0m in \u001b[0;36m<module>\u001b[1;34m\u001b[0m\n\u001b[1;32m----> 1\u001b[1;33m \u001b[1;34m'I have eaten'\u001b[0m \u001b[1;33m+\u001b[0m\u001b[1;36m99\u001b[0m\u001b[1;33m+\u001b[0m \u001b[1;34m'burritos'\u001b[0m\u001b[1;33m\u001b[0m\u001b[1;33m\u001b[0m\u001b[0m\n\u001b[0m",
      "\u001b[1;31mTypeError\u001b[0m: can only concatenate str (not \"int\") to str"
     ]
    }
   ],
   "source": [
    "'I have eaten' +99+ 'burritos'"
   ]
  },
  {
   "cell_type": "code",
   "execution_count": 10,
   "id": "0ac9423b",
   "metadata": {},
   "outputs": [
    {
     "data": {
      "text/plain": [
       "'I have eaten99burritos'"
      ]
     },
     "execution_count": 10,
     "metadata": {},
     "output_type": "execute_result"
    }
   ],
   "source": [
    "'I have eaten' + str(99) + 'burritos'"
   ]
  },
  {
   "cell_type": "code",
   "execution_count": null,
   "id": "5567ac67",
   "metadata": {},
   "outputs": [],
   "source": []
  }
 ],
 "metadata": {
  "kernelspec": {
   "display_name": "Python 3 (ipykernel)",
   "language": "python",
   "name": "python3"
  },
  "language_info": {
   "codemirror_mode": {
    "name": "ipython",
    "version": 3
   },
   "file_extension": ".py",
   "mimetype": "text/x-python",
   "name": "python",
   "nbconvert_exporter": "python",
   "pygments_lexer": "ipython3",
   "version": "3.9.7"
  }
 },
 "nbformat": 4,
 "nbformat_minor": 5
}
